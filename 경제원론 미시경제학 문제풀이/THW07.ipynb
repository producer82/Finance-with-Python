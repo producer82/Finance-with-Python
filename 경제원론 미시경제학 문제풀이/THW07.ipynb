{
 "cells": [
  {
   "cell_type": "markdown",
   "metadata": {},
   "source": [
    "# THW07- CHW05를 Python으로 optimization with constraints\n",
    "### 김수린, 박재현, 박태원, 정민기, 홍영기"
   ]
  },
  {
   "cell_type": "code",
   "execution_count": 1,
   "metadata": {},
   "outputs": [
    {
     "data": {
      "text/plain": [
       "<Figure size 640x480 with 1 Axes>"
      ]
     },
     "metadata": {},
     "output_type": "display_data"
    },
    {
     "data": {
      "text/plain": [
       "<Figure size 640x480 with 1 Axes>"
      ]
     },
     "metadata": {},
     "output_type": "display_data"
    },
    {
     "data": {
      "text/plain": [
       "<Figure size 640x480 with 1 Axes>"
      ]
     },
     "metadata": {},
     "output_type": "display_data"
    },
    {
     "data": {
      "text/plain": [
       "<Figure size 640x480 with 1 Axes>"
      ]
     },
     "metadata": {},
     "output_type": "display_data"
    },
    {
     "data": {
      "text/plain": [
       "<Figure size 640x480 with 1 Axes>"
      ]
     },
     "metadata": {},
     "output_type": "display_data"
    },
    {
     "data": {
      "text/plain": [
       "<Figure size 640x480 with 1 Axes>"
      ]
     },
     "metadata": {},
     "output_type": "display_data"
    },
    {
     "data": {
      "text/plain": [
       "<Figure size 640x480 with 1 Axes>"
      ]
     },
     "metadata": {},
     "output_type": "display_data"
    },
    {
     "data": {
      "text/plain": [
       "<Figure size 640x480 with 1 Axes>"
      ]
     },
     "metadata": {},
     "output_type": "display_data"
    }
   ],
   "source": [
    "#한국 무역선 절편\n",
    "#Objective function: b = sqrt(100-4R^2) + P*R\n",
    "#Constraints: 0 <= R <= 5 \n",
    "\n",
    "#한국 무역선상 효용\n",
    "#Objective function: R*(-P*R + b)\n",
    "#Constraints: 없음\n",
    "\n",
    "#미국 무역선 절편\n",
    "#Objective function: b = sqrt((100-R^2)/4) + P*R\n",
    "#Constraints: 0 <= R <= 10\n",
    "\n",
    "#미국 무역선상 효용\n",
    "#Objective function: R*(-P*R + b)\n",
    "#Constraints: 없음\n",
    "\n",
    "import numpy as np\n",
    "import math\n",
    "from scipy.optimize import minimize\n",
    "import matplotlib.pyplot as plt\n",
    "\n",
    "p = 0.8\n",
    "init = 0\n",
    "korBound = [(0, 5)] #Constraints\n",
    "usBound = [(0,10)]\n",
    "\n",
    "#한국 PPF\n",
    "def korPPF(r):\n",
    "    return np.sqrt(100-(4*(r**2)))\n",
    "\n",
    "#미국 PPF\n",
    "def usPPF(r):\n",
    "    return np.sqrt((100-(r**2))/4)\n",
    "\n",
    "#한국 무차별 곡선\n",
    "def korIndiffrentCurve(r):\n",
    "    return -(calculateConsumption()[1])/r\n",
    "\n",
    "#미국 무차별 곡선\n",
    "def usIndiffrentCurve(r):\n",
    "    return -(calculateConsumption()[3])/r\n",
    "\n",
    "#한국 무역선 절편을 y, r을 x로 가지는 함수 정의\n",
    "#minimize문제를 maximize 문제로 바꾸기 위해 함수를 x축 대칭함\n",
    "def korTradeIntercept(r):\n",
    "    return -(np.sqrt(100-(4*(r**2))) + p*r)\n",
    "\n",
    "#미국 무역선 절편을 y, r을 x로 가지는 함수 정의\n",
    "def usTradeIntercept(r):\n",
    "    return -(np.sqrt((100-(r**2))/4) + p*r)\n",
    "\n",
    "#한국 무역선\n",
    "def korTradeLine(r):\n",
    "    return -p*r + (-calculateProduction()[1])\n",
    "\n",
    "#미국 무역선\n",
    "def usTradeLine(r):\n",
    "    return -p*r + (-calculateProduction()[3])\n",
    "\n",
    "#한국 무역 효용\n",
    "def korTradeUtility(r):\n",
    "    return -(r*korTradeLine(r))\n",
    "\n",
    "#미국 무역 효용\n",
    "def usTradeUtility(r):\n",
    "    return -(r*usTradeLine(r))\n",
    "\n",
    "def calculateProduction():\n",
    "    #한국 무역선 절편 최적화\n",
    "    korTradeInterceptOptimum = minimize(korTradeIntercept, init, method='SLSQP', bounds=korBound)\n",
    "    #미국 무역선 절편 최적화\n",
    "    usTradeInterceptOptimum = minimize(usTradeIntercept, init, method='SLSQP', bounds=usBound)\n",
    "    \n",
    "    return korTradeInterceptOptimum.x, korTradeInterceptOptimum.fun, usTradeInterceptOptimum.x, usTradeInterceptOptimum.fun \n",
    "\n",
    "def calculateConsumption():\n",
    "    #한국 무역선상의 조합 최적화\n",
    "    korTradeUtilityOptimum = minimize(korTradeUtility, init, method='SLSQP')\n",
    "\n",
    "    #미국 무역선상의 조합 최적화\n",
    "    usTradeUtilityOptimum = minimize(usTradeUtility, init, method='SLSQP')\n",
    "    \n",
    "    return korTradeUtilityOptimum.x, korTradeUtilityOptimum.fun, usTradeUtilityOptimum.x, usTradeUtilityOptimum.fun\n",
    "\n",
    "####################그래프####################\n",
    "\n",
    "plt.rc(\"font\", family=\"Gulim\")\n",
    "\n",
    "x_val = np.linspace(0, 5, 100)\n",
    "x_val2 = np.linspace(0, 10, 100)\n",
    "x_val3 = np.linspace(1, 10, 100)\n",
    "plt.title(\"Korea PPF and Indiffrent curve\")\n",
    "plt.plot(x_val, korPPF(x_val), label=\"PPF\")\n",
    "plt.plot(x_val2, korTradeLine(x_val2), label=\"Trade Line\")\n",
    "plt.plot(x_val3, korIndiffrentCurve(x_val3), label=\"Indiffrent Curve\")\n",
    "plt.scatter(calculateConsumption()[0], korTradeLine(calculateConsumption()[0]), label=\"Optimal Consumption\")\n",
    "plt.scatter(calculateProduction()[0], korTradeLine(calculateProduction()[0]), label=\"Optimal Production\")\n",
    "plt.xlabel('R')\n",
    "plt.ylabel('C')\n",
    "plt.legend()\n",
    "plt.show()\n",
    "\n",
    "x_val = np.linspace(0, 10, 100)\n",
    "x_val2 = np.linspace(0, 10, 100)\n",
    "x_val3 = np.linspace(1, 10, 100)\n",
    "plt.title(\"US PPF and Indiffrent curve\")\n",
    "plt.plot(x_val, usPPF(x_val), label=\"PPF\")\n",
    "plt.plot(x_val2, usTradeLine(x_val2), label=\"Trade Line\")\n",
    "plt.plot(x_val3, usIndiffrentCurve(x_val3), label=\"Indiffrent Curve\")\n",
    "plt.scatter(calculateConsumption()[2], usTradeLine(calculateConsumption()[2]), label=\"Optimal Consumption\")\n",
    "plt.scatter(calculateProduction()[2], usTradeLine(calculateProduction()[2]), label=\"Optimal Production\")\n",
    "plt.xlabel('R')\n",
    "plt.ylabel('C')\n",
    "plt.legend()\n",
    "plt.show()\n",
    "\n",
    "x_val = np.linspace(0, 5, 100)\n",
    "plt.title(\"R값에 따른 한국 무역선 절편의 변화\")\n",
    "plt.plot(x_val, -korTradeIntercept(x_val))\n",
    "plt.scatter(calculateProduction()[0], -calculateProduction()[1], label=\"maximum\")\n",
    "plt.xlabel('R')\n",
    "plt.ylabel('무역선 절편')\n",
    "plt.legend()\n",
    "plt.show()\n",
    "\n",
    "x_val = np.linspace(0, 10, 100)\n",
    "plt.title(\"R값에 따른 미국 무역선 절편의 변화\")\n",
    "plt.plot(x_val, -usTradeIntercept(x_val))\n",
    "plt.scatter(calculateProduction()[2], -calculateProduction()[3], label=\"maximum\")\n",
    "plt.xlabel('R')\n",
    "plt.ylabel('무역선 절편')\n",
    "plt.legend()\n",
    "plt.show()\n",
    "\n",
    "x_val = np.linspace(0, 10, 100)\n",
    "plt.title(\"R값에 따른 한국 무역선상 효용의 변화\")\n",
    "plt.plot(x_val, -korTradeUtility(x_val))\n",
    "plt.scatter(calculateConsumption()[0], -calculateConsumption()[1], label=\"maximum\")\n",
    "plt.xlabel('R')\n",
    "plt.ylabel('R*C')\n",
    "plt.legend()\n",
    "plt.show()\n",
    "\n",
    "x_val = np.linspace(0, 10, 100)\n",
    "plt.title(\"R값에 따른 미국 무역선상 효용의 변화\")\n",
    "plt.plot(x_val, -usTradeUtility(x_val))\n",
    "plt.scatter(calculateConsumption()[2], -calculateConsumption()[3], label=\"maximum\")\n",
    "plt.xlabel('R')\n",
    "plt.ylabel('R*C')\n",
    "plt.legend()\n",
    "plt.show()\n",
    "\n",
    "ricePrice = np.linspace(0.8, 1.2, 100)\n",
    "riceDemand = []\n",
    "riceSupply = []\n",
    "carDemand = []\n",
    "carSupply = []\n",
    "carPrice = []\n",
    "\n",
    "for i in ricePrice:\n",
    "    p = i\n",
    "    riceDemand.append(calculateConsumption()[0]-calculateProduction()[0])\n",
    "    riceSupply.append(calculateProduction()[2]-calculateConsumption()[2])\n",
    "\n",
    "for i in ricePrice:\n",
    "    p = i\n",
    "    carDemand.append(usTradeLine(calculateConsumption()[2]) - usPPF(calculateProduction()[2]))\n",
    "    carSupply.append(korPPF(calculateProduction()[0]) - korTradeLine(calculateConsumption()[0]))\n",
    "\n",
    "for i in ricePrice:\n",
    "    carPrice.append(1/i)\n",
    "\n",
    "plt.title(\"쌀 시장의 수요 공급 곡선\")\n",
    "plt.plot(riceDemand, ricePrice, label=\"Demand\")\n",
    "plt.plot(riceSupply, ricePrice, label=\"Supply\")\n",
    "plt.xlabel('Q')\n",
    "plt.ylabel('P')\n",
    "plt.legend()\n",
    "plt.show()\n",
    "    \n",
    "plt.title(\"차 시장의 수요 공급 곡선\")\n",
    "plt.plot(carDemand, carPrice, label=\"Demand\")\n",
    "plt.plot(carSupply, carPrice, label=\"Supply\")\n",
    "plt.xlabel('Q')\n",
    "plt.ylabel('P')\n",
    "plt.legend()\n",
    "plt.show()"
   ]
  },
  {
   "cell_type": "code",
   "execution_count": 7,
   "metadata": {},
   "outputs": [
    {
     "ename": "TypeError",
     "evalue": "pie1() missing 2 required positional arguments: 'p' and 'q1'",
     "output_type": "error",
     "traceback": [
      "\u001b[1;31m---------------------------------------------------------------------------\u001b[0m",
      "\u001b[1;31mTypeError\u001b[0m                                 Traceback (most recent call last)",
      "\u001b[1;32m<ipython-input-7-a41c71b517f4>\u001b[0m in \u001b[0;36m<module>\u001b[1;34m\u001b[0m\n\u001b[0;32m      6\u001b[0m \u001b[1;33m\u001b[0m\u001b[0m\n\u001b[0;32m      7\u001b[0m \u001b[1;33m\u001b[0m\u001b[0m\n\u001b[1;32m----> 8\u001b[1;33m \u001b[0mpie\u001b[0m \u001b[1;33m=\u001b[0m \u001b[0mpie1\u001b[0m\u001b[1;33m(\u001b[0m\u001b[1;33m)\u001b[0m\u001b[1;33m+\u001b[0m\u001b[0mpie2\u001b[0m\u001b[1;33m(\u001b[0m\u001b[1;33m)\u001b[0m\u001b[1;33m\u001b[0m\u001b[1;33m\u001b[0m\u001b[0m\n\u001b[0m\u001b[0;32m      9\u001b[0m \u001b[1;33m\u001b[0m\u001b[0m\n\u001b[0;32m     10\u001b[0m \u001b[0mtest\u001b[0m \u001b[1;33m=\u001b[0m \u001b[0mminimize\u001b[0m\u001b[1;33m(\u001b[0m\u001b[0mpie1\u001b[0m\u001b[1;33m,\u001b[0m \u001b[0minit\u001b[0m\u001b[1;33m,\u001b[0m \u001b[0mmethod\u001b[0m\u001b[1;33m=\u001b[0m\u001b[1;34m'SLSQP'\u001b[0m\u001b[1;33m)\u001b[0m\u001b[1;33m\u001b[0m\u001b[1;33m\u001b[0m\u001b[0m\n",
      "\u001b[1;31mTypeError\u001b[0m: pie1() missing 2 required positional arguments: 'p' and 'q1'"
     ]
    }
   ],
   "source": [
    "\n",
    "\n",
    "\n",
    "\n",
    "def pie1(p, q1):\n",
    "    return p*q1 - 5*q1\n",
    "    \n",
    "def pie2(p, q2):\n",
    "    return p*q2 - 0.5*(q2**2)\n",
    "    \n",
    "    \n",
    "pie = pie1()+pie2()\n",
    "\n",
    "test = minimize(pie1, init, method='SLSQP')\n",
    "print(test)\n"
   ]
  },
  {
   "cell_type": "code",
   "execution_count": null,
   "metadata": {},
   "outputs": [],
   "source": []
  }
 ],
 "metadata": {
  "kernelspec": {
   "display_name": "Python 3",
   "language": "python",
   "name": "python3"
  },
  "language_info": {
   "codemirror_mode": {
    "name": "ipython",
    "version": 3
   },
   "file_extension": ".py",
   "mimetype": "text/x-python",
   "name": "python",
   "nbconvert_exporter": "python",
   "pygments_lexer": "ipython3",
   "version": "3.7.4"
  }
 },
 "nbformat": 4,
 "nbformat_minor": 2
}
