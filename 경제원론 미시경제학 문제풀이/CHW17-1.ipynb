{
 "cells": [
  {
   "cell_type": "markdown",
   "metadata": {},
   "source": [
    "# CHW17-2 과점 모형\n",
    "### 박태원, 김승표, 문성재, 심은섭, 장하준"
   ]
  },
  {
   "cell_type": "code",
   "execution_count": 167,
   "metadata": {},
   "outputs": [
    {
     "name": "stdout",
     "output_type": "stream",
     "text": [
      "[47.44317489] [23.86363849]\n"
     ]
    }
   ],
   "source": [
    "import numpy as np\n",
    "import math\n",
    "from scipy.optimize import minimize\n",
    "from sympy import Symbol, solve\n",
    "from sympy import symbols\n",
    "from pprint import pprint\n",
    "import matplotlib.pyplot as plt\n",
    "\n",
    "# 크루노 내쉬 균형 구하기\n",
    "\n",
    "#값을 고정해놓을 변수\n",
    "staticQ1 = 1\n",
    "staticQ2 = 1\n",
    "\n",
    "#pie1 계산\n",
    "def pie1(q1):\n",
    "    q = q1+staticQ2\n",
    "    return -(price(q)*q1 - 5*q1)\n",
    "\n",
    "#pie2 계산\n",
    "def pie2(q2):\n",
    "    q = staticQ1+q2\n",
    "    return -(price(q)*q2 - 0.5*(q2**2))\n",
    "\n",
    "#가격 함수, 여러 셀에 걸쳐서 활용됨\n",
    "def price(q):\n",
    "    return 100 - 0.8*q\n",
    "\n",
    "for i in range(1,100):\n",
    "    staticQ1 = minimize(pie1, 0, method='SLSQP').x\n",
    "    staticQ2 = minimize(pie2, 0, method=\"SLSQP\").x\n",
    "    \n",
    "print(staticQ1, staticQ2)"
   ]
  },
  {
   "cell_type": "code",
   "execution_count": 168,
   "metadata": {},
   "outputs": [
    {
     "name": "stdout",
     "output_type": "stream",
     "text": [
      "[57.98612332] [20.61965436]\n"
     ]
    }
   ],
   "source": [
    "# 스타켈버그 내쉬 균형 구하기\n",
    "\n",
    "def q2(q1):\n",
    "    return (100/2.6)-(0.8/2.6)*q1\n",
    "\n",
    "def pie1(q1):\n",
    "    q = q1+q2(q1) \n",
    "    return -(price(q)*q1 - 5*q1)\n",
    "\n",
    "optimizedQ1 = minimize(pie1, 0, method='SLSQP').x\n",
    "print(optimizedQ1, q2(optimizedQ1))"
   ]
  },
  {
   "cell_type": "code",
   "execution_count": 173,
   "metadata": {},
   "outputs": [
    {
     "name": "stdout",
     "output_type": "stream",
     "text": [
      "[{q1: -q2 - 0.125*sqrt(-40.0*q2**2 + 400.0*q2 + 225625.0) + 59.375},\n",
      " {q1: -q2 + 0.125*sqrt(-40.0*q2**2 + 400.0*q2 + 225625.0) + 59.375}]\n"
     ]
    },
    {
     "data": {
      "image/png": "[encoded data removed]",
      "text/plain": [
       "<Figure size 432x288 with 1 Axes>"
      ]
     },
     "metadata": {
      "needs_background": "light"
     },
     "output_type": "display_data"
    },
    {
     "data": {
      "image/png": "[encoded data removed]",
      "text/plain": [
       "<Figure size 432x288 with 1 Axes>"
      ]
     },
     "metadata": {
      "needs_background": "light"
     },
     "output_type": "display_data"
    }
   ],
   "source": [
    "# 완전경쟁시장 균형 구하기\n",
    "\n",
    "q1, q2 = symbols('q1, q2')\n",
    "\n",
    "#pie = 0을 풀어줌\n",
    "pie1 = price(q1 + q2)*q1 - 5*q1\n",
    "pie2 = price(q1 + q2)*q2 - 0.5*(q2**2)\n",
    "pie = pie1 + pie2\n",
    "res = solve(pie, dict=True)\n",
    "pprint(res)\n",
    "\n",
    "def q1A(q2):\n",
    "    return -q2 + 0.125*np.sqrt(-40.0*q2**2 + 400.0*q2 + 225625.0) + 59.375\n",
    "\n",
    "def q1B(q2):\n",
    "    return -q2 - 0.125*np.sqrt(-40.0*q2**2 + 400.0*q2 + 225625.0) + 59.375\n",
    "\n",
    "plt.rc(\"font\", family=\"Gulim\")\n",
    "\n",
    "x_val = np.linspace(0, 80, 100)\n",
    "plt.title(\"pie=0을 만족시키는 모든 해 쌍 A\")\n",
    "plt.plot(x_val, q1A(x_val))\n",
    "plt.xlabel('Q2')\n",
    "plt.ylabel('Q1')\n",
    "plt.show()\n",
    "\n",
    "x_val = np.linspace(0, 80, 100)\n",
    "plt.title(\"pie=0을 만족시키는 모든 해 쌍 B\")\n",
    "plt.plot(x_val, q1B(x_val))\n",
    "plt.xlabel('Q2')\n",
    "plt.ylabel('Q1')\n",
    "plt.show()"
   ]
  },
  {
   "cell_type": "code",
   "execution_count": 170,
   "metadata": {},
   "outputs": [
    {
     "name": "stdout",
     "output_type": "stream",
     "text": [
      "[54.37483777  5.00008342]\n"
     ]
    }
   ],
   "source": [
    "#독점경쟁시장\n",
    "\n",
    "def pie(q):\n",
    "    q1, q2 = q\n",
    "    pie1 = price(q1 + q2)*q1 - 5*q1\n",
    "    pie2 = price(q1 + q2)*q2 - 0.5*(q2**2)\n",
    "    return -(pie1 + pie2)\n",
    "\n",
    "optimizedPie = minimize(pie, (0, 0), method=\"SLSQP\")\n",
    "print(optimizedPie.x)"
   ]
  },
  {
   "cell_type": "code",
   "execution_count": 171,
   "metadata": {},
   "outputs": [
    {
     "name": "stdout",
     "output_type": "stream",
     "text": [
      "[41.88900608] [21.3951167] [13.5768659]\n"
     ]
    }
   ],
   "source": [
    "# 3개 기업에 대한 크루노 내쉬 균형\n",
    "\n",
    "staticQ1 = 1\n",
    "staticQ2 = 1\n",
    "staticQ3 = 1\n",
    "\n",
    "#pie1 계산\n",
    "def pie1(q1):\n",
    "    q = q1+staticQ2+staticQ3\n",
    "    return -(price(q)*q1 - 5*q1)\n",
    "\n",
    "#pie2 계산\n",
    "def pie2(q2):\n",
    "    q = staticQ1+q2+staticQ3\n",
    "    return -(price(q)*q2 - 0.5*(q2**2))\n",
    "\n",
    "#pie3 계산\n",
    "def pie3(q3):\n",
    "    q = staticQ1+staticQ2+q3\n",
    "    return -(price(q)*q3 - 0.05*(q3**3))\n",
    "\n",
    "for i in range(1,100):\n",
    "    staticQ1 = minimize(pie1, 0, method='SLSQP').x\n",
    "    staticQ2 = minimize(pie2, 0, method=\"SLSQP\").x\n",
    "    staticQ3 = minimize(pie3, 0, method=\"SLSQP\").x\n",
    "    \n",
    "print(staticQ1, staticQ2, staticQ3)"
   ]
  },
  {
   "cell_type": "code",
   "execution_count": null,
   "metadata": {},
   "outputs": [],
   "source": []
  }
 ],
 "metadata": {
  "kernelspec": {
   "display_name": "Python 3",
   "language": "python",
   "name": "python3"
  },
  "language_info": {
   "codemirror_mode": {
    "name": "ipython",
    "version": 3
   },
   "file_extension": ".py",
   "mimetype": "text/x-python",
   "name": "python",
   "nbconvert_exporter": "python",
   "pygments_lexer": "ipython3",
   "version": "3.7.4"
  }
 },
 "nbformat": 4,
 "nbformat_minor": 2
}
